{
 "cells": [
  {
   "cell_type": "code",
   "execution_count": null,
   "outputs": [],
   "source": [
    "import time\n",
    "import copy\n",
    "\n",
    "from data import od, poi\n",
    "from sklearn.preprocessing import MinMaxScaler\n",
    "import math\n",
    "scaler = MinMaxScaler()\n",
    "from sklearn.metrics import mean_squared_error, r2_score\n",
    "import ast  # safely evaluates string tuples like \"(4, 5)\" to actual tuples\n",
    "import json\n",
    "# Transim modules\n",
    "from TranSim.data.poidata import POIData\n",
    "from TranSim.data.oddata import ODData\n",
    "from models.divergence import Div\n",
    "from sklearn.model_selection import KFold, GridSearchCV\n",
    "from scipy.optimize import minimize\n",
    "import pandas as pd\n",
    "from collections import defaultdict\n",
    "import matplotlib.pyplot as plt\n",
    "import numpy as np\n",
    "from matplotlib.lines import Line2D\n",
    "import uuid\n",
    "import base64"
   ],
   "metadata": {
    "collapsed": false
   },
   "id": "4998ad3c01f15ff3"
  },
  {
   "cell_type": "code",
   "execution_count": null,
   "outputs": [],
   "source": [
    "import os\n",
    "import pandas as pd\n",
    "import numpy as np\n",
    "\n",
    "from transgm import TransGM\n",
    "from dataset import DataSet"
   ],
   "metadata": {
    "collapsed": false
   },
   "id": "cbcaeeab05c57f4b"
  },
  {
   "cell_type": "code",
   "execution_count": null,
   "outputs": [],
   "source": [
    "df_divs = pd.read_csv('div_results.csv')\n",
    "df_divs.columns"
   ],
   "metadata": {
    "collapsed": false
   },
   "id": "294ab933ef673133"
  },
  {
   "cell_type": "code",
   "execution_count": null,
   "outputs": [],
   "source": [
    "divs = df_divs['observed_divergence'].values"
   ],
   "metadata": {
    "collapsed": false
   },
   "id": "b9cf2c030479bdde"
  },
  {
   "cell_type": "code",
   "execution_count": null,
   "outputs": [],
   "source": [
    "tgm = TransGM()"
   ],
   "metadata": {
    "collapsed": false
   },
   "id": "37c28e0a885c9f31"
  },
  {
   "cell_type": "code",
   "execution_count": null,
   "outputs": [],
   "source": [
    "model = tgm.fit('birmingham', serial=1)"
   ],
   "metadata": {
    "collapsed": false
   },
   "id": "bb52f84128b77c56"
  },
  {
   "cell_type": "code",
   "execution_count": null,
   "outputs": [],
   "source": [
    "model.results('base').to_dataframe().transpose()"
   ],
   "metadata": {
    "collapsed": false
   },
   "id": "e4c02a38f9bdbe79"
  },
  {
   "cell_type": "code",
   "execution_count": null,
   "outputs": [],
   "source": [
    "model.transfer('coventry').results('trans').to_dataframe().transpose()"
   ],
   "metadata": {
    "collapsed": false
   },
   "id": "5dc0eb501a450ec9"
  },
  {
   "cell_type": "code",
   "execution_count": null,
   "outputs": [],
   "source": [
    "print(model.set_divs(divs).adapt('coventry').results('adapt').to_dataframe().transpose())"
   ],
   "metadata": {
    "collapsed": false
   },
   "id": "7a5cb4eac8ccaadd"
  },
  {
   "cell_type": "code",
   "execution_count": null,
   "outputs": [],
   "source": [],
   "metadata": {
    "collapsed": false
   },
   "id": "bea636da13bb3c1c"
  },
  {
   "cell_type": "code",
   "execution_count": null,
   "outputs": [],
   "source": [],
   "metadata": {
    "collapsed": false
   },
   "id": "dc08c7d0b93bda72"
  },
  {
   "cell_type": "code",
   "execution_count": null,
   "outputs": [],
   "source": [],
   "metadata": {
    "collapsed": false
   },
   "id": "31eb6c4f48e97d25"
  }
 ],
 "metadata": {
  "kernelspec": {
   "display_name": "Python 3",
   "language": "python",
   "name": "python3"
  },
  "language_info": {
   "codemirror_mode": {
    "name": "ipython",
    "version": 2
   },
   "file_extension": ".py",
   "mimetype": "text/x-python",
   "name": "python",
   "nbconvert_exporter": "python",
   "pygments_lexer": "ipython2",
   "version": "2.7.6"
  }
 },
 "nbformat": 4,
 "nbformat_minor": 5
}
