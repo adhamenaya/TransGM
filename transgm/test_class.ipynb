{
 "cells": [
  {
   "cell_type": "code",
   "execution_count": 1,
   "outputs": [],
   "source": [
    "import time\n",
    "import copy\n",
    "\n",
    "from data import od, poi\n",
    "from sklearn.preprocessing import MinMaxScaler\n",
    "import math\n",
    "scaler = MinMaxScaler()\n",
    "from sklearn.metrics import mean_squared_error, r2_score\n",
    "import ast  # safely evaluates string tuples like \"(4, 5)\" to actual tuples\n",
    "import json\n",
    "\n",
    "from models.divergence import Div\n",
    "from sklearn.model_selection import KFold, GridSearchCV\n",
    "from scipy.optimize import minimize\n",
    "import pandas as pd\n",
    "from collections import defaultdict\n",
    "import matplotlib.pyplot as plt\n",
    "import numpy as np\n",
    "from matplotlib.lines import Line2D\n",
    "import uuid\n",
    "import base64\n",
    "import pandas as pd  \n",
    "from spatialgrid import SpatialGrid  \n",
    "import numpy as np  \n",
    "import matplotlib.pyplot as plt  \n",
    "import sys  \n",
    "\n",
    "from poidata import POIData  \n",
    "from oddata import ODData\n",
    "import os\n",
    "import pandas as pd\n",
    "import numpy as np\n",
    "\n",
    "from transgm import TransGM\n",
    "from dataset import DataSet\n",
    "from divergence import Div\n"
   ],
   "metadata": {
    "collapsed": false,
    "ExecuteTime": {
     "end_time": "2025-08-12T07:42:11.688375Z",
     "start_time": "2025-08-12T07:42:11.454248Z"
    }
   },
   "id": "4998ad3c01f15ff3"
  },
  {
   "cell_type": "code",
   "execution_count": 2,
   "outputs": [
    {
     "name": "stdout",
     "output_type": "stream",
     "text": [
      "Data shape: (36, 3)\n",
      "dest_tensor shape: (8, 8, 11)\n",
      "Best bandwidth: (0.0039692215962697985, 0.029058112211049716)\n",
      "Data shape: (36, 3)\n",
      "dest_tensor shape: (8, 8, 11)\n",
      "Best bandwidth: (0.05556910234777718, 0.031479621561970525)\n",
      "Data shape: (36, 3)\n",
      "dest_tensor shape: (8, 8, 11)\n",
      "Best bandwidth: (0.0039692215962697985, 0.029058112211049716)\n",
      "Data shape: (36, 3)\n",
      "dest_tensor shape: (8, 8, 11)\n",
      "Best bandwidth: (0.0039692215962697985, 0.031479621561970525)\n",
      "Data shape: (36, 3)\n",
      "dest_tensor shape: (8, 8, 11)\n",
      "Best bandwidth: (0.0039692215962697985, 0.029058112211049716)\n",
      "Data shape: (36, 3)\n",
      "dest_tensor shape: (8, 8, 11)\n",
      "Best bandwidth: (0.0039692215962697985, 0.029058112211049716)\n",
      "Data shape: (36, 3)\n",
      "dest_tensor shape: (8, 8, 11)\n",
      "Best bandwidth: (0.0039692215962697985, 0.029058112211049716)\n",
      "Data shape: (36, 3)\n",
      "dest_tensor shape: (8, 8, 11)\n",
      "Best bandwidth: (0.0039692215962697985, 0.031479621561970525)\n",
      "Data shape: (36, 3)\n",
      "dest_tensor shape: (8, 8, 11)\n",
      "Best bandwidth: (0.05556910234777718, 0.026636602860128908)\n",
      "Data shape: (36, 3)\n",
      "dest_tensor shape: (8, 8, 11)\n",
      "Best bandwidth: (0.0039692215962697985, 0.031479621561970525)\n",
      "Data shape: (36, 3)\n",
      "dest_tensor shape: (8, 8, 11)\n",
      "Best bandwidth: (0.0039692215962697985, 0.026636602860128908)\n",
      "Data shape: (56, 3)\n",
      "dest_tensor shape: (8, 8, 11)\n",
      "Best bandwidth: (0.09048220610104667, 0.003945294934862303)\n",
      "Data shape: (56, 3)\n",
      "dest_tensor shape: (8, 8, 11)\n",
      "Best bandwidth: (0.022620551525261667, 0.003945294934862303)\n",
      "Data shape: (56, 3)\n",
      "dest_tensor shape: (8, 8, 11)\n",
      "Best bandwidth: (0.022620551525261667, 0.003945294934862303)\n",
      "Data shape: (56, 3)\n",
      "dest_tensor shape: (8, 8, 11)\n",
      "Best bandwidth: (0.07917193033841582, 0.003945294934862303)\n",
      "Data shape: (56, 3)\n",
      "dest_tensor shape: (8, 8, 11)\n",
      "Best bandwidth: (0.022620551525261667, 0.015781179739449213)\n",
      "Data shape: (56, 3)\n",
      "dest_tensor shape: (8, 8, 11)\n",
      "Best bandwidth: (0.022620551525261667, 0.003945294934862303)\n",
      "Data shape: (56, 3)\n",
      "dest_tensor shape: (8, 8, 11)\n",
      "Best bandwidth: (0.005655137881315417, 0.003945294934862303)\n",
      "Data shape: (56, 3)\n",
      "dest_tensor shape: (8, 8, 11)\n",
      "Best bandwidth: (0.07917193033841582, 0.003945294934862303)\n",
      "Data shape: (56, 3)\n",
      "dest_tensor shape: (8, 8, 11)\n",
      "Best bandwidth: (0.07917193033841582, 0.003945294934862303)\n",
      "Data shape: (56, 3)\n",
      "dest_tensor shape: (8, 8, 11)\n",
      "Best bandwidth: (0.022620551525261667, 0.003945294934862303)\n",
      "Data shape: (56, 3)\n",
      "dest_tensor shape: (8, 8, 11)\n",
      "Best bandwidth: (0.022620551525261667, 0.003945294934862303)\n",
      "Best bandwidth: (0.05655137881315416, 0.011835884804586909)\n",
      "Best bandwidth: (0.05655137881315416, 0.011835884804586909)\n",
      "Best bandwidth: (0.0039692215962697985, 0.016950565456445667)\n",
      "Best bandwidth: (0.0039692215962697985, 0.016950565456445667)\n"
     ]
    }
   ],
   "source": [
    "# Origin-Destination Data Processing Pipeline\n",
    "\n",
    "# [1] - Assign OD data points into a unified grid\n",
    "\n",
    "# Initialize ODData instances with spatial parameters\n",
    "od_coventry = ODData(\n",
    "    spacing_km=3,    # 3km grid spacing\n",
    "    size=(8, 8)      # 8x8 target grid size\n",
    ")\n",
    "\n",
    "od_birmingham = ODData(\n",
    "    spacing_km=4,    # 5km grid spacing  \n",
    "    size=(8, 8)      # 8x8 target grid size\n",
    ")\n",
    "\n",
    "# Load OD trip data and POI data for each city\n",
    "# Loads CSV files and processes POI categories\n",
    "od_coventry.load_data('coventry')\n",
    "od_birmingham.load_data('Birmingham')\n",
    "\n",
    "# Extract coordinates from geometry strings in the loaded data\n",
    "od_coventry.preprocess()\n",
    "od_birmingham.preprocess()\n",
    "\n",
    "# Generate origin-destination matrices with trip counts and spatial features\n",
    "# Returns DataFrame with OD pairs, counts, distances, and POI features\n",
    "df_od_birmingham = od_birmingham.create_od_matrix()\n",
    "df_od_coventry = od_coventry.create_od_matrix()"
   ],
   "metadata": {
    "collapsed": false,
    "ExecuteTime": {
     "end_time": "2025-08-12T07:44:40.364620Z",
     "start_time": "2025-08-12T07:42:12.553325Z"
    }
   },
   "id": "d3742df679867882"
  },
  {
   "cell_type": "code",
   "execution_count": null,
   "outputs": [],
   "source": [
    "od_birmingham.categories"
   ],
   "metadata": {
    "collapsed": false
   },
   "id": "861217ab9c74c487"
  },
  {
   "cell_type": "code",
   "execution_count": null,
   "outputs": [],
   "source": [
    "# [2] Destination features\n",
    "grid1 = od_birmingham.destinations[:,:,5]\n",
    "grid2 = od_coventry.destinations[:,:,5]"
   ],
   "metadata": {
    "collapsed": false
   },
   "id": "84fdbd4443b29ac1"
  },
  {
   "cell_type": "code",
   "execution_count": null,
   "outputs": [],
   "source": [
    "od_coventry.destinations[:,:,0]"
   ],
   "metadata": {
    "collapsed": false
   },
   "id": "a63fc6c4374d817"
  },
  {
   "cell_type": "code",
   "execution_count": null,
   "outputs": [],
   "source": [
    "div = Div()\n",
    "div.compute(grid1, grid2)"
   ],
   "metadata": {
    "collapsed": false
   },
   "id": "a29b23d632ef603"
  },
  {
   "cell_type": "code",
   "execution_count": null,
   "outputs": [],
   "source": [
    "results = {}\n",
    "od_coventry.categories = sorted(od_coventry.categories)\n",
    "\n",
    "i = 0\n",
    "for c in od_coventry.categories:\n",
    "    if c in ['trips', 'distance', 'origins', 'other', 'residential', 'public']:\n",
    "        i += 1\n",
    "        continue\n",
    "    print(c)\n",
    "\n",
    "    if c == 'leisure':\n",
    "        c  = 'leisure'\n",
    "    grid1 = od_coventry.destinations[:, :, i]\n",
    "    grid2 = od_birmingham.destinations[:, :, i]\n",
    "\n",
    "    jsd_div = div.compute(grid1, grid2)\n",
    "    local_jsd,a,b = div.local_div_map(grid1, grid2)\n",
    "    local_mean = np.mean(local_jsd)\n",
    "\n",
    "    results[c] = {\n",
    "        'feature': c,\n",
    "        'observed_divergence': jsd_div,\n",
    "    }\n",
    "\n",
    "    results[c] = jsd_div\n",
    "\n",
    "\n",
    "    i += 1\n",
    "results"
   ],
   "metadata": {
    "collapsed": false
   },
   "id": "5e9dea4dfe875d4b"
  },
  {
   "cell_type": "code",
   "execution_count": null,
   "outputs": [],
   "source": [
    "# Plotting\n",
    "plt.figure(figsize=(9, 3))\n",
    "bars = plt.bar(list(results.keys()), list(results.values()), color='blue')\n",
    "plt.xticks(rotation=45, ha='right')\n",
    "plt.ylabel(\"Local Divergence\")\n",
    "# plt.title(\"Cosine Divergence per Feature with CV1 and CV2\")\n",
    "plt.ylim(0, 1.1)\n",
    "plt.grid(axis='y', linestyle='--', alpha=0.5)\n",
    "\n",
    "plt.tight_layout()\n",
    "plt.show()\n"
   ],
   "metadata": {
    "collapsed": false
   },
   "id": "64af9f44b55863e5"
  },
  {
   "cell_type": "code",
   "execution_count": null,
   "outputs": [],
   "source": [
    "# TODO: set dataset to the model\n",
    "# unify the dataset before the div and the model\n",
    "tgm = TransGM()"
   ],
   "metadata": {
    "collapsed": false
   },
   "id": "37c28e0a885c9f31"
  },
  {
   "cell_type": "code",
   "execution_count": null,
   "outputs": [],
   "source": [
    "bir_dataset = DataSet('birmingham')\n",
    "cov_dataset = DataSet('coventry')\n",
    "\n",
    "tgm.load_data(bir_dataset)\n",
    "tgm.load_data(cov_dataset)"
   ],
   "metadata": {
    "collapsed": false
   },
   "id": "7aba50691e8bdc16"
  },
  {
   "cell_type": "code",
   "execution_count": null,
   "outputs": [],
   "source": [
    "cov_dataset.categories"
   ],
   "metadata": {
    "collapsed": false
   },
   "id": "b2a7f826945e723"
  },
  {
   "cell_type": "code",
   "execution_count": null,
   "outputs": [],
   "source": [
    "model = tgm.fit('birmingham', serial=1)"
   ],
   "metadata": {
    "collapsed": false
   },
   "id": "bb52f84128b77c56"
  },
  {
   "cell_type": "code",
   "execution_count": null,
   "outputs": [],
   "source": [
    "model.results('base').to_dataframe().transpose()"
   ],
   "metadata": {
    "collapsed": false
   },
   "id": "e4c02a38f9bdbe79"
  },
  {
   "cell_type": "code",
   "execution_count": null,
   "outputs": [],
   "source": [
    "model.transfer('coventry').results('trans').to_dataframe().transpose()"
   ],
   "metadata": {
    "collapsed": false
   },
   "id": "5dc0eb501a450ec9"
  },
  {
   "cell_type": "code",
   "execution_count": null,
   "outputs": [],
   "source": [
    "results"
   ],
   "metadata": {
    "collapsed": false
   },
   "id": "1daa8a91009d15ce"
  },
  {
   "cell_type": "code",
   "execution_count": null,
   "outputs": [],
   "source": [
    "list(results.values())"
   ],
   "metadata": {
    "collapsed": false
   },
   "id": "5359ca6d390bbffe"
  },
  {
   "cell_type": "code",
   "execution_count": null,
   "outputs": [],
   "source": [
    "model.with_divs(results).adapt('coventry').results('adapt').to_dataframe().transpose()"
   ],
   "metadata": {
    "collapsed": false
   },
   "id": "7a5cb4eac8ccaadd"
  },
  {
   "cell_type": "code",
   "execution_count": null,
   "outputs": [],
   "source": [
    "# TODO: \n",
    "# 1. add flag for verbose\n",
    "# 2. it seems base param_log is saved\n",
    "# 3. done: calc div\n",
    "# 4. plot some results\n",
    "# 5. refactor adapt function\n",
    "# 6. remove unused code\n",
    "# 7. done: show how to create city grid!!!!! Example spatial_grid_od.ipynb in TranSIM"
   ],
   "metadata": {
    "collapsed": false
   },
   "id": "bea636da13bb3c1c"
  },
  {
   "cell_type": "code",
   "execution_count": null,
   "outputs": [],
   "source": [
    "test = DataSet('coventry')"
   ],
   "metadata": {
    "collapsed": false
   },
   "id": "dc08c7d0b93bda72"
  },
  {
   "cell_type": "code",
   "execution_count": null,
   "outputs": [],
   "source": [
    "test.create_dist_matrix()"
   ],
   "metadata": {
    "collapsed": false
   },
   "id": "31eb6c4f48e97d25"
  },
  {
   "cell_type": "code",
   "execution_count": null,
   "outputs": [],
   "source": [],
   "metadata": {
    "collapsed": false
   },
   "id": "682d5d5f30542834"
  },
  {
   "cell_type": "code",
   "execution_count": null,
   "outputs": [],
   "source": [],
   "metadata": {
    "collapsed": false
   },
   "id": "26fdd0f4b14b0bc5"
  }
 ],
 "metadata": {
  "kernelspec": {
   "display_name": "Python 3",
   "language": "python",
   "name": "python3"
  },
  "language_info": {
   "codemirror_mode": {
    "name": "ipython",
    "version": 2
   },
   "file_extension": ".py",
   "mimetype": "text/x-python",
   "name": "python",
   "nbconvert_exporter": "python",
   "pygments_lexer": "ipython2",
   "version": "2.7.6"
  }
 },
 "nbformat": 4,
 "nbformat_minor": 5
}
