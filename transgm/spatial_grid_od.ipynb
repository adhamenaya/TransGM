{
 "cells": [
  {
   "cell_type": "code",
   "execution_count": 1,
   "id": "initial_id",
   "metadata": {
    "collapsed": true,
    "ExecuteTime": {
     "end_time": "2025-08-10T21:32:48.839414Z",
     "start_time": "2025-08-10T21:32:47.976186Z"
    }
   },
   "outputs": [],
   "source": [
    "import pandas as pd\n",
    "from spatialgrid import SpatialGrid\n",
    "import numpy as np\n",
    "import matplotlib.pyplot as plt\n",
    "import sys\n",
    "\n",
    "from poidata import POIData\n",
    "from oddata import ODData"
   ]
  },
  {
   "cell_type": "code",
   "execution_count": 2,
   "outputs": [
    {
     "name": "stdout",
     "output_type": "stream",
     "text": [
      "Data shape: (36, 3)\n",
      "dest_tensor shape: (8, 8, 14)\n",
      "Best bandwidth: (0.0039692215962697985, 0.029058112211049716)\n",
      "Data shape: (36, 3)\n",
      "dest_tensor shape: (8, 8, 14)\n",
      "Best bandwidth: (0.05556910234777718, 0.031479621561970525)\n",
      "Data shape: (36, 3)\n",
      "dest_tensor shape: (8, 8, 14)\n",
      "Best bandwidth: (0.0039692215962697985, 0.029058112211049716)\n",
      "Data shape: (36, 3)\n",
      "dest_tensor shape: (8, 8, 14)\n",
      "Best bandwidth: (0.0039692215962697985, 0.029058112211049716)\n",
      "Data shape: (36, 3)\n",
      "dest_tensor shape: (8, 8, 14)\n",
      "Best bandwidth: (0.0039692215962697985, 0.031479621561970525)\n",
      "Data shape: (36, 3)\n",
      "dest_tensor shape: (8, 8, 14)\n",
      "Best bandwidth: (0.0039692215962697985, 0.029058112211049716)\n",
      "Data shape: (36, 3)\n",
      "dest_tensor shape: (8, 8, 14)\n",
      "Best bandwidth: (0.0039692215962697985, 0.029058112211049716)\n",
      "Data shape: (36, 3)\n",
      "dest_tensor shape: (8, 8, 14)\n",
      "Best bandwidth: (0.0039692215962697985, 0.031479621561970525)\n",
      "Data shape: (36, 3)\n",
      "dest_tensor shape: (8, 8, 14)\n",
      "Best bandwidth: (0.0039692215962697985, 0.029058112211049716)\n",
      "Data shape: (36, 3)\n",
      "dest_tensor shape: (8, 8, 14)\n",
      "Best bandwidth: (0.0039692215962697985, 0.029058112211049716)\n",
      "Data shape: (36, 3)\n",
      "dest_tensor shape: (8, 8, 14)\n",
      "Best bandwidth: (0.05556910234777718, 0.026636602860128908)\n",
      "Data shape: (36, 3)\n",
      "dest_tensor shape: (8, 8, 14)\n",
      "Best bandwidth: (0.0039692215962697985, 0.029058112211049716)\n",
      "Data shape: (36, 3)\n",
      "dest_tensor shape: (8, 8, 14)\n",
      "Best bandwidth: (0.0039692215962697985, 0.031479621561970525)\n",
      "Data shape: (36, 3)\n",
      "dest_tensor shape: (8, 8, 14)\n",
      "Best bandwidth: (0.0039692215962697985, 0.026636602860128908)\n"
     ]
    }
   ],
   "source": [
    "od1 = ODData(spacing_km=3, size=(8,8))\n",
    "od1.load_data('coventry')\n",
    "od1.preprocess()"
   ],
   "metadata": {
    "collapsed": false,
    "ExecuteTime": {
     "end_time": "2025-08-10T21:33:55.852930Z",
     "start_time": "2025-08-10T21:32:51.174087Z"
    }
   },
   "id": "a0e3a20540cde395"
  },
  {
   "cell_type": "code",
   "execution_count": null,
   "outputs": [],
   "source": [
    "grid1, points1, cells1 = od1.od_to_grid(od1.from_data)\n",
    "grid2, points2, cells2 = od1.od_to_grid(od1.to_data)\n",
    "\n",
    "od1.create_od_matrix()"
   ],
   "metadata": {
    "collapsed": false
   },
   "id": "cc92aafc583cf2fa"
  },
  {
   "cell_type": "code",
   "execution_count": null,
   "outputs": [],
   "source": [
    "df.to_csv(f'input/od/{city}_od_grid.csv', index=False)"
   ],
   "metadata": {
    "collapsed": false
   },
   "id": "8612d319e4cb48ac"
  },
  {
   "cell_type": "code",
   "execution_count": null,
   "outputs": [],
   "source": [],
   "metadata": {
    "collapsed": false
   },
   "id": "f1b3ab6cd6e5ea20"
  },
  {
   "cell_type": "code",
   "execution_count": null,
   "outputs": [],
   "source": [],
   "metadata": {
    "collapsed": false
   },
   "id": "f8990df3af2986f8"
  }
 ],
 "metadata": {
  "kernelspec": {
   "display_name": "Python 3",
   "language": "python",
   "name": "python3"
  },
  "language_info": {
   "codemirror_mode": {
    "name": "ipython",
    "version": 2
   },
   "file_extension": ".py",
   "mimetype": "text/x-python",
   "name": "python",
   "nbconvert_exporter": "python",
   "pygments_lexer": "ipython2",
   "version": "2.7.6"
  }
 },
 "nbformat": 4,
 "nbformat_minor": 5
}
